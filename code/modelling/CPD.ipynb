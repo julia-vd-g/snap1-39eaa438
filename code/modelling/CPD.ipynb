{
 "cells": [
  {
   "cell_type": "markdown",
   "id": "a02e5693-f6e5-48bc-855d-39af0ee6447c",
   "metadata": {},
   "source": [
    "# Change Point Detection\n",
    "\n",
    "- Binary segmentation\n",
    "- Bottom up segmentation\n",
    "- Pruned Exact Linear Time (PELT)\n",
    "\n",
    "The data used for these models is the closeness centrality (CC) of 2003 (June - August)."
   ]
  },
  {
   "cell_type": "code",
   "execution_count": null,
   "id": "5f0caa7f-8c3f-4b23-8864-ca7f7b00b8b3",
   "metadata": {},
   "outputs": [],
   "source": [
    "# Load libraries"
   ]
  },
  {
   "cell_type": "markdown",
   "id": "2b886299-9aa0-4af1-b831-85303a5bd393",
   "metadata": {},
   "source": [
    "## Data preparation"
   ]
  },
  {
   "cell_type": "code",
   "execution_count": null,
   "id": "3ee077d9-4134-4804-89ee-e9744a06de22",
   "metadata": {},
   "outputs": [],
   "source": [
    "# CC data 2003\n",
    "file_pattern = '../private/complex_network_coefficients/2000-2009_run_20240105_1808/rasterfiles/Europe/2003/CN_Europe_0.25x0.25deg_CC_2003-*.nc'\n",
    "file_paths = glob.glob(file_pattern)\n",
    "\n",
    "# Open and concatenate files\n",
    "cc_2003 = xr.open_mfdataset(file_paths)\n",
    "\n",
    "# Rename coefficient\n",
    "cc_2003 = cc_2003.rename({'coefficient': 'CC'})\n",
    "\n",
    "# Save the merged data to a new NetCDF file\n",
    "if os.path.exists(\"../Data/cc_2003.nc\"):\n",
    "    os.remove(\"../Data/cc_2003.nc\")\n",
    "    cc_2003.to_netcdf(\"../Data/cc_2003.nc\")\n",
    "else:\n",
    "    cc_2003.to_netcdf(\"../Data/cc_2003.nc\")"
   ]
  },
  {
   "cell_type": "code",
   "execution_count": null,
   "id": "0842e9f2-5f08-4d62-89e6-1cb45901c4b9",
   "metadata": {},
   "outputs": [],
   "source": [
    "# Flatten 3D array of Closeness Centrality into 1D array\n",
    "def flatten(data):\n",
    "    flat_data = []\n",
    "    for i in range(data.shape[2]):\n",
    "        for j in range(data.shape[1]):\n",
    "            for k in range(data.shape[0]):\n",
    "                flat_data.append(data[k][j][i])\n",
    "    return np.array(flat_data)"
   ]
  },
  {
   "cell_type": "code",
   "execution_count": null,
   "id": "8cde3f2b-b243-4030-8d1c-4e90e763a316",
   "metadata": {},
   "outputs": [],
   "source": [
    "# Load your NetCDF file and variable\n",
    "data = nc.Dataset('../Data/cc_2003.nc')\n",
    "variable = data['CC']\n",
    "ds = xr.open_dataset('../Data/cc_2003.nc')\n",
    "input = flatten(np.array(variable))"
   ]
  },
  {
   "cell_type": "code",
   "execution_count": null,
   "id": "d3af5207-4d66-44bd-b911-d98c13e8f7de",
   "metadata": {},
   "outputs": [],
   "source": [
    "input_list = input.tolist()\n",
    "df_input = pd.DataFrame(input_list, columns=[\"input\"])\n",
    "df_input.to_csv(\"../Data/df_input.csv\", index=False)"
   ]
  },
  {
   "cell_type": "markdown",
   "id": "177ef48e-1fea-4599-a2e8-ed32d9c61eca",
   "metadata": {},
   "source": [
    "## Coordinate extraction"
   ]
  },
  {
   "cell_type": "code",
   "execution_count": null,
   "id": "86495864-c145-4120-9393-7225cf9d81e4",
   "metadata": {},
   "outputs": [],
   "source": [
    "# Get the 3D index of the change points\n",
    "def get_3d_index(arr, var_shape):\n",
    "    index = []\n",
    "    for i in range(len(arr)-1):\n",
    "        ind = np.unravel_index(arr[i], var_shape)\n",
    "        index.append(ind)\n",
    "    return index\n",
    "\n",
    "# Return the time, lat, and lon values related to the change points\n",
    "def get_coords(index, ds):\n",
    "    time = []\n",
    "    lat = []\n",
    "    lon = []\n",
    "    for i in range(len(index)):\n",
    "        t = ds['time'].values[index[i][0]]\n",
    "        t = t.astype('datetime64[D]').astype(str)\n",
    "        la = ds['lat'].values[index[i][1]]\n",
    "        lo = ds['lon'].values[index[i][2]]\n",
    "        time.append(t)\n",
    "        lat.append(la)\n",
    "        lon.append(lo)\n",
    "    return time, lat, lon"
   ]
  },
  {
   "cell_type": "markdown",
   "id": "70d1134b-bd87-4dc7-bafc-8b4d772219e8",
   "metadata": {},
   "source": [
    "## Source/Sink extraction"
   ]
  },
  {
   "cell_type": "code",
   "execution_count": null,
   "id": "8a1d8333-3740-402c-a5f5-5cc11b3064e0",
   "metadata": {},
   "outputs": [],
   "source": [
    "def sourcesink(input, change_points, jp):\n",
    "    source_sink = []\n",
    "    for i in range(len(change_points)-1):\n",
    "        if (input[change_points[i] - jp] == 0.0) & (input[change_points[i] + jp] != 0.0):\n",
    "            source_sink.append(\"increase\")\n",
    "        elif (input[change_points[i] - jp] != 0.0) & (input[change_points[i] + jp] == 0.0):\n",
    "            source_sink.append(\"decrease\")\n",
    "        else: source_sink.append(\"none\")\n",
    "    return source_sink"
   ]
  },
  {
   "cell_type": "markdown",
   "id": "a713c1f2-cb5f-4b52-b42b-fdb689431c16",
   "metadata": {},
   "source": [
    "## Models"
   ]
  },
  {
   "cell_type": "code",
   "execution_count": null,
   "id": "bd007784-3b96-4a41-b822-7f655624cd66",
   "metadata": {},
   "outputs": [],
   "source": [
    "def binseg(input, mod, jp, bkps):\n",
    "    my_bkps = rpt.Binseg(model=mod, jump=jp).fit_predict(input, n_bkps=bkps)\n",
    "    return my_bkps\n",
    "\n",
    "def bottomup(input, mod, jp, bkps):\n",
    "    my_bkps = rpt.BottomUp(model=mod, jump=jp).fit_predict(input, n_bkps=bkps)\n",
    "    return my_bkps\n",
    "\n",
    "def pelt():\n",
    "    my_bkps = rpt.Pelt(model=mod).fit_predict(input, pen=p)\n",
    "    return my_bkps"
   ]
  },
  {
   "cell_type": "markdown",
   "id": "43de0b91-a591-46fc-b4f0-e0b253dc9679",
   "metadata": {},
   "source": [
    "### Binary segmentation"
   ]
  },
  {
   "cell_type": "code",
   "execution_count": null,
   "id": "ab617800-0e65-4149-9df3-eb493c5dcbe4",
   "metadata": {},
   "outputs": [],
   "source": [
    "change_points = binseg(input, \"l1\", 5, 4)\n",
    "index = get_3d_index(change_points, variable.shape)\n",
    "time, lat, lon = get_coords(index, ds)\n",
    "source_sink = sourcesink(input, change_points, 5)\n",
    "change_point_data = {'Time': time, 'Latitude': lat, 'Longitude': lon, 'Source/Sink': source_sink}\n",
    "df_bu_l1 = pd.DataFrame(change_point_data)\n",
    "print(df_bu_l1)"
   ]
  },
  {
   "cell_type": "markdown",
   "id": "d1bcd677-768d-46a4-a217-1dc81df8bc7f",
   "metadata": {},
   "source": [
    "### Bottom up segmentation"
   ]
  },
  {
   "cell_type": "code",
   "execution_count": null,
   "id": "d21c8a20-758e-4af8-8c4c-b9909aaf4c5a",
   "metadata": {},
   "outputs": [],
   "source": [
    "change_points = bottomup(input, \"l1\", 5, 4)\n",
    "index = get_3d_index(change_points, variable.shape)\n",
    "time, lat, lon = get_coords(index, ds)\n",
    "source_sink = sourcesink(input, change_points, 5)\n",
    "change_point_data = {'Time': time, 'Latitude': lat, 'Longitude': lon, 'Source/Sink': source_sink}\n",
    "df_bu_l1 = pd.DataFrame(change_point_data)\n",
    "print(df_bu_l1)"
   ]
  },
  {
   "cell_type": "markdown",
   "id": "833423bf-8dcb-4108-8f6b-35ce15acf1ac",
   "metadata": {},
   "source": [
    "### PELT"
   ]
  },
  {
   "cell_type": "code",
   "execution_count": null,
   "id": "91d0177c-e640-41d5-959b-57bd4deb9bfb",
   "metadata": {},
   "outputs": [],
   "source": []
  },
  {
   "cell_type": "markdown",
   "id": "fb852738-00b8-4f68-b1f7-fd8b2f24f3bd",
   "metadata": {},
   "source": [
    "## Reduced dataset\n",
    "\n",
    "Reduce the dataset to the daily CC average over the entire grid. Next, perform change point detection on the reduced dataset to identify change days. Next the complete CC dataset for 2003 can be reduced to the days found in the previous step. On this data change point detection can again be performed to identify change points (locations)."
   ]
  },
  {
   "cell_type": "code",
   "execution_count": null,
   "id": "4a916cea-a9dd-438f-b5b1-2fb5a831db5d",
   "metadata": {},
   "outputs": [],
   "source": [
    "daily_average = []\n",
    "\n",
    "for i in range(ds.sizes['time']):\n",
    "    # Select data for the chosen day\n",
    "    daily_data = ds.isel(time=i)\n",
    "\n",
    "    # Calculate the average across all latitudes and longitudes\n",
    "    average_value = daily_data.mean(dim=(\"lat\", \"lon\"))\n",
    "\n",
    "    value = average_value.CC.values\n",
    "    \n",
    "    daily_average.append(float(value))"
   ]
  },
  {
   "cell_type": "markdown",
   "id": "cc4b44b0-97aa-4ce3-936e-2a92121240c2",
   "metadata": {},
   "source": [
    "### Binary segmentation"
   ]
  },
  {
   "cell_type": "code",
   "execution_count": null,
   "id": "e063fd35-a8bd-4c00-a7b8-02f0624ebcc7",
   "metadata": {},
   "outputs": [],
   "source": [
    "bkps_l1 = rpt.Binseg('l1').fit_predict(np.array(daily_average), n_bkps=4)\n",
    "print(bkps_l1)\n",
    "\n",
    "bkps_l2 = rpt.Binseg('l2').fit_predict(np.array(daily_average), n_bkps=4)\n",
    "print(bkps_l2)\n",
    "\n",
    "bkps_rbf = rpt.Binseg('rbf').fit_predict(np.array(daily_average), n_bkps=4)\n",
    "print(bkps_rbf)\n",
    "\n",
    "bkps_nor = rpt.Binseg('normal').fit_predict(np.array(daily_average), n_bkps=4)\n",
    "print(bkps_nor)\n",
    "\n",
    "bkps_ar = rpt.Binseg('ar').fit_predict(np.array(daily_average), n_bkps=4)\n",
    "print(bkps_ar)"
   ]
  },
  {
   "cell_type": "markdown",
   "id": "8bf4f5fc-2b38-4937-812c-75f2c84444eb",
   "metadata": {},
   "source": [
    "### Bottom up segmentation"
   ]
  },
  {
   "cell_type": "code",
   "execution_count": 2,
   "id": "5fcd3af7-cf49-4253-86ed-144167a5631e",
   "metadata": {},
   "outputs": [],
   "source": [
    "bkps_l1 = rpt.BottomUp('l1').fit_predict(np.array(daily_average), n_bkps=4)\n",
    "print(bkps_l1)\n",
    "\n",
    "bkps_l2 = rpt.BottomUp('l2').fit_predict(np.array(daily_average), n_bkps=4)\n",
    "print(bkps_l2)\n",
    "\n",
    "bkps_rbf = rpt.BottomUp('rbf').fit_predict(np.array(daily_average), n_bkps=4)\n",
    "print(bkps_rbf)"
   ]
  },
  {
   "cell_type": "markdown",
   "id": "21d09f8c-b300-4c5d-b6be-ea3505868823",
   "metadata": {},
   "source": [
    "### PELT"
   ]
  },
  {
   "cell_type": "code",
   "execution_count": null,
   "id": "048d544c-55cf-4426-b6e2-c42b95886389",
   "metadata": {},
   "outputs": [],
   "source": [
    "bkps_l1 = rpt.Pelt('l1').fit_predict(np.array(daily_average), pen=4)\n",
    "print(bkps_l1)\n",
    "\n",
    "bkps_l2 = rpt.Pelt('l2').fit_predict(np.array(daily_average), pen=4)\n",
    "print(bkps_l2)\n",
    "\n",
    "bkps_rbf = rpt.Pelt('rbf').fit_predict(np.array(daily_average), pen=4)\n",
    "print(bkps_rbf)"
   ]
  },
  {
   "cell_type": "markdown",
   "id": "23b55456-e5dd-4a1b-967d-7c89e43f490b",
   "metadata": {},
   "source": [
    "### Visualize results"
   ]
  },
  {
   "cell_type": "code",
   "execution_count": null,
   "id": "adc5b513-24e1-4398-af44-88fb4dfe7574",
   "metadata": {},
   "outputs": [],
   "source": [
    "plt.plot(daily_average)\n",
    "plt.axvline(5, color='red')\n",
    "plt.axvline(10, color='red')\n",
    "plt.axvline(15, color='red')\n",
    "plt.axvline(30, color='red')\n",
    "plt.axvline(35, color='red')\n",
    "plt.axvline(45, color='red')\n",
    "plt.axvline(60, color='red')\n",
    "plt.axvline(65, color='red')\n",
    "plt.axvline(75, color='red')\n",
    "plt.axvline(80, color='red')\n",
    "plt.axvline(85, color='red')"
   ]
  },
  {
   "cell_type": "code",
   "execution_count": null,
   "id": "1733bf98-3d57-4305-9c83-0c876b5802cd",
   "metadata": {},
   "outputs": [],
   "source": []
  },
  {
   "cell_type": "code",
   "execution_count": null,
   "id": "00a793d6-8e29-4427-977a-de7b8fafdd01",
   "metadata": {},
   "outputs": [],
   "source": []
  },
  {
   "cell_type": "code",
   "execution_count": null,
   "id": "138cf6b9-416d-4a5d-8ba1-f852fd4ed587",
   "metadata": {},
   "outputs": [],
   "source": []
  }
 ],
 "metadata": {
  "kernelspec": {
   "display_name": "Python 3 (ipykernel)",
   "language": "python",
   "name": "python3"
  },
  "language_info": {
   "codemirror_mode": {
    "name": "ipython",
    "version": 3
   },
   "file_extension": ".py",
   "mimetype": "text/x-python",
   "name": "python",
   "nbconvert_exporter": "python",
   "pygments_lexer": "ipython3",
   "version": "3.11.8"
  }
 },
 "nbformat": 4,
 "nbformat_minor": 5
}
